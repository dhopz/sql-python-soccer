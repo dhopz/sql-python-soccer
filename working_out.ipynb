{
 "cells": [
  {
   "cell_type": "code",
   "execution_count": 3,
   "metadata": {},
   "outputs": [],
   "source": [
    "import psycopg2, sqlite3, sys\n",
    " \n",
    "#Change these values as needed\n",
    " \n",
    "sqdb=''\n",
    "sqlike=''\n",
    "pgdb=''\n",
    "pguser=''\n",
    "pgpswd=''\n",
    "pghost=''\n",
    "pgport='5432'\n",
    "pgschema=''\n",
    " \n",
    "consq=sqlite3.connect(sqdb)\n",
    "cursq=consq.cursor()\n",
    " \n",
    "tabnames=[]\n",
    " \n",
    "cursq.execute(\"SELECT name FROM sqlite_master WHERE type='table' AND name LIKE '%s'\" % sqlike)\n",
    "tabgrab = cursq.fetchall()\n",
    "for item in tabgrab:\n",
    "    tabnames.append(item[0])\n",
    " \n",
    "for table in tabnames:\n",
    "    cursq.execute(\"SELECT sql FROM sqlite_master WHERE type='table' AND name = ?;\", (table,))\n",
    "    create = cursq.fetchone()[0]\n",
    "    cursq.execute(\"SELECT * FROM %s;\" %table)\n",
    "    rows=cursq.fetchall()\n",
    "    colcount=len(rows[0])\n",
    "    pholder='%s,'*colcount\n",
    "    newholder=pholder[:-1]\n",
    " \n",
    "    try:\n",
    " \n",
    "        conpg = psycopg2.connect(database=pgdb, user=pguser, password=pgpswd,\n",
    "                               host=pghost, port=pgport)\n",
    "        curpg = conpg.cursor()\n",
    "        curpg.execute(\"SET search_path TO %s;\" %pgschema)\n",
    "        curpg.execute(\"DROP TABLE IF EXISTS %s;\" %table)\n",
    "        curpg.execute(create)\n",
    "        curpg.executemany(\"INSERT INTO %s VALUES (%s);\" % (table, newholder),rows)\n",
    "        conpg.commit()\n",
    "        print('Created', table)\n",
    " \n",
    "    except psycopg2.DatabaseError as e:\n",
    "        print ('Error %s' % e) \n",
    "        sys.exit(1)\n",
    " \n",
    "    finally:\n",
    " \n",
    "        if conpg:\n",
    "            conpg.close()\n",
    " \n",
    "consq.close()"
   ]
  }
 ],
 "metadata": {
  "interpreter": {
   "hash": "31f2aee4e71d21fbe5cf8b01ff0e069b9275f58929596ceb00d14d90e3e16cd6"
  },
  "kernelspec": {
   "display_name": "Python 3.8.9 64-bit",
   "language": "python",
   "name": "python3"
  },
  "language_info": {
   "codemirror_mode": {
    "name": "ipython",
    "version": 3
   },
   "file_extension": ".py",
   "mimetype": "text/x-python",
   "name": "python",
   "nbconvert_exporter": "python",
   "pygments_lexer": "ipython3",
   "version": "3.8.9"
  },
  "orig_nbformat": 4
 },
 "nbformat": 4,
 "nbformat_minor": 2
}
